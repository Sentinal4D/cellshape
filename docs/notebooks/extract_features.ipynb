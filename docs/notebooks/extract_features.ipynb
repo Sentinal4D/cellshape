{
 "cells": [
  {
   "cell_type": "code",
   "execution_count": null,
   "outputs": [],
   "source": [
    "import torch\n",
    "from torch.utils.data import DataLoader\n",
    "from cellshape_cloud.vendor.chamfer_distance import ChamferLoss\n",
    "from cellshape_cloud.pointcloud_dataset import (\n",
    "    PointCloudDataset,\n",
    "    SingleCellDataset,\n",
    ")\n",
    "from cellshape_cloud.cloud_autoencoder import CloudAutoEncoder\n",
    "\n",
    "path = \"./cellshapeOutput/Models/cloud_autoencoder/dgcnn_foldingetbasic_128_001.pt\"\n",
    "\n"
   ],
   "metadata": {
    "collapsed": false,
    "pycharm": {
     "name": "#%%\n"
    }
   }
  },
  {
   "cell_type": "code",
   "execution_count": null,
   "outputs": [],
   "source": [
    "model = CloudAutoEncoder(num_features=50, \n",
    "                         k=20,\n",
    "                         encoder_type=\"dgcnn\",\n",
    "                         decoder_type=\"foldingnet\")\n",
    "checkpoint = torch.load(path)\n",
    "model_dict = model.state_dict()  # load parameters from pre-trained FoldingNet\n",
    "\n",
    "model.load_state_dict(checkpoint[\"model_state_dict\"])\n",
    "checkpoint[\"loss\"]"
   ],
   "metadata": {
    "collapsed": false,
    "pycharm": {
     "name": "#%%\n"
    }
   }
  },
  {
   "cell_type": "code",
   "execution_count": null,
   "outputs": [],
   "source": [
    "root_dir = \"/home/mvries/Documents/CellShape/UploadData/cellshapeData/\"\n",
    "df = \"/home/mvries/Documents/CellShape/UploadData/cellshapeData/all_cell_data.csv\"\n",
    "dataset = SingleCellDataset(df, root_dir, cell_component=\"cell\")\n",
    "\n",
    "dataloader = DataLoader(dataset, batch_size=1, shuffle=False)"
   ],
   "metadata": {
    "collapsed": false,
    "pycharm": {
     "name": "#%%\n"
    }
   }
  },
  {
   "cell_type": "code",
   "execution_count": null,
   "id": "880a6d84",
   "metadata": {
    "pycharm": {
     "name": "#%%\n"
    }
   },
   "outputs": [],
   "source": [
    "from mpl_toolkits.mplot3d import Axes3D\n",
    "import matplotlib.pyplot as plt\n",
    "\n",
    "number = 0\n",
    "points = all_inputs[number]\n",
    "\n",
    "outs = all_outputs[number]\n",
    "\n",
    "fig = plt.figure(figsize=(5, 5))\n",
    "\n",
    "ax = plt.axes(projection=\"3d\")\n",
    "ax.scatter(points[:, 0], points[:, 1], points[:, 2], c=\"y\", marker=\"o\", s=20)\n",
    "\n",
    "fig = plt.figure(figsize=(5, 5))\n",
    "ax = plt.axes(projection=\"3d\")\n",
    "ax.scatter(outs[:, 0], outs[:, 1], outs[:, 2], c=\"r\", marker=\"o\", s=20)"
   ]
  },
  {
   "cell_type": "code",
   "execution_count": null,
   "id": "d95c0a6c",
   "metadata": {
    "pycharm": {
     "name": "#%%\n"
    }
   },
   "outputs": [],
   "source": []
  }
 ],
 "metadata": {
  "kernelspec": {
   "display_name": "Python 3 (ipykernel)",
   "language": "python",
   "name": "python3"
  },
  "language_info": {
   "codemirror_mode": {
    "name": "ipython",
    "version": 3
   },
   "file_extension": ".py",
   "mimetype": "text/x-python",
   "name": "python",
   "nbconvert_exporter": "python",
   "pygments_lexer": "ipython3",
   "version": "3.8.13"
  }
 },
 "nbformat": 4,
 "nbformat_minor": 5
}